{
 "cells": [
  {
   "cell_type": "code",
   "execution_count": 1,
   "id": "f01bb8a0",
   "metadata": {},
   "outputs": [],
   "source": [
    "import numpy as np"
   ]
  },
  {
   "cell_type": "markdown",
   "id": "6f7e6e14",
   "metadata": {},
   "source": [
    "# Part 1"
   ]
  },
  {
   "cell_type": "code",
   "execution_count": null,
   "id": "06588296",
   "metadata": {},
   "outputs": [],
   "source": [
    "def f(x):\n",
    "    \"\"\"Function to compute f(x) = x^3 - x - 1 for given x.\n",
    "\n",
    "    PARAMETERS:\n",
    "    x --- array-like\n",
    "\n",
    "    RETURNS:\n",
    "    f_x --- array-like, computation of f(x)\n",
    "    \"\"\"\n",
    "    f_x = x**3 - x - 1 #calculating f(x)\n",
    "    return f_x"
   ]
  },
  {
   "cell_type": "code",
   "execution_count": null,
   "id": "8bd1c314",
   "metadata": {},
   "outputs": [],
   "source": [
    "def df(x):\n",
    "    \"\"\"Function to compute f'(x) = 3x^2 - 1, where f(x) = x^3 - x - 1 for given x.\n",
    "\n",
    "    PARAMETERS:\n",
    "    x --- array-like\n",
    "\n",
    "    RETURNS:\n",
    "    df_x --- array-like, computation of f'(x)\n",
    "    \"\"\"\n",
    "    df_x = 3*x**2 - 1 #calculatign f'(x)\n",
    "    return df_x"
   ]
  },
  {
   "cell_type": "markdown",
   "id": "bb3fd05b",
   "metadata": {},
   "source": [
    "# Part 2"
   ]
  },
  {
   "cell_type": "code",
   "execution_count": 9,
   "id": "eb578c8a",
   "metadata": {},
   "outputs": [],
   "source": [
    "def newton(f, df, x0, epsilon=1e-6, max_iter=30):\n",
    "    \"\"\" Performs Newtons iteration to find the root x_n of f with f(x_n) = 0. The function begins at x_0 and continues until |f(x)| < epsilon or max_iter iterations have been exceded.\n",
    "\n",
    "    PARAMETERS:\n",
    "    x0 --- initial guess, \n",
    "            float-like\n",
    "    f --- function of x, \n",
    "            function\n",
    "    df --- derivative of f\n",
    "            function\n",
    "    epsilon --- error margin, optional\n",
    "                float-like\n",
    "    max_iter --- escape, max number of iterations, optional\n",
    "                    float-like\n",
    "\n",
    "    RETURNS:\n",
    "    x_n --- the x-value of the root\n",
    "    \"\"\"\n",
    "\n",
    "    x_n = x0 #define starting point\n",
    "    if abs(f(x0)) < epsilon:\n",
    "            print('YOU FOUND THE SECRET ROOT AND WON ONE MILLION FAFILLION DOLLARS!!!!!!!!')\n",
    "            return x0\n",
    "    for n in range(1, max_iter):\n",
    "        x_n = x_n - f(x_n) / df(x_n) #find new x_n according to Newton's algorithm\n",
    "        if abs(f(x_n)) < epsilon: #check if f(x_n) is near zero\n",
    "            print(f'Found root in {n} iterations')\n",
    "            return x_n \n",
    "    print('Iteration failed')\n",
    "    return None"
   ]
  },
  {
   "cell_type": "markdown",
   "id": "63b395c5",
   "metadata": {},
   "source": [
    "# Part 3"
   ]
  },
  {
   "cell_type": "code",
   "execution_count": null,
   "id": "7394955f",
   "metadata": {},
   "outputs": [],
   "source": []
  },
  {
   "cell_type": "markdown",
   "id": "0719e75e",
   "metadata": {},
   "source": []
  }
 ],
 "metadata": {
  "kernelspec": {
   "display_name": "Python 3 (ipykernel)",
   "language": "python",
   "name": "python3"
  },
  "language_info": {
   "codemirror_mode": {
    "name": "ipython",
    "version": 3
   },
   "file_extension": ".py",
   "mimetype": "text/x-python",
   "name": "python",
   "nbconvert_exporter": "python",
   "pygments_lexer": "ipython3",
   "version": "3.10.2"
  }
 },
 "nbformat": 4,
 "nbformat_minor": 5
}
