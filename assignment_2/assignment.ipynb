{
 "cells": [
  {
   "cell_type": "code",
   "execution_count": 1,
   "id": "f01bb8a0",
   "metadata": {},
   "outputs": [],
   "source": [
    "import numpy as np"
   ]
  },
  {
   "cell_type": "markdown",
   "id": "6f7e6e14",
   "metadata": {},
   "source": [
    "# Part 1"
   ]
  },
  {
   "cell_type": "code",
   "execution_count": 2,
   "id": "06588296",
   "metadata": {},
   "outputs": [],
   "source": [
    "def f(x):\n",
    "    \"\"\"Function to compute f(x) = x^3 - x - 1 for given x.\n",
    "\n",
    "    PARAMETERS:\n",
    "    x --- array-like\n",
    "\n",
    "    RETURNS:\n",
    "    f_x --- array-like, computation of f(x)\n",
    "    \"\"\"\n",
    "    f_x = x**3 - x - 1 #calculating f(x)\n",
    "    return f_x"
   ]
  },
  {
   "cell_type": "code",
   "execution_count": 3,
   "id": "8bd1c314",
   "metadata": {},
   "outputs": [],
   "source": [
    "def df(x):\n",
    "    \"\"\"Function to compute f'(x) = 3x^2 - 1, where f(x) = x^3 - x - 1 for given x.\n",
    "\n",
    "    PARAMETERS:\n",
    "    x --- array-like\n",
    "\n",
    "    RETURNS:\n",
    "    df_x --- array-like, computation of f'(x)\n",
    "    \"\"\"\n",
    "    df_x = 3*x**2 - 1 #calculatign f'(x)\n",
    "    return df_x"
   ]
  },
  {
   "cell_type": "markdown",
   "id": "bb3fd05b",
   "metadata": {},
   "source": [
    "# Part 2"
   ]
  },
  {
   "cell_type": "code",
   "execution_count": 4,
   "id": "eb578c8a",
   "metadata": {},
   "outputs": [],
   "source": [
    "def newton(f, df, x0, epsilon=1e-6, max_iter=30):\n",
    "    \"\"\" Performs Newtons iteration to find the root x_n of f with f(x_n) = 0. The function begins at x_0 and continues until |f(x)| < epsilon or max_iter iterations have been exceded.\n",
    "\n",
    "    PARAMETERS:\n",
    "    x0 --- initial guess, \n",
    "            float-like\n",
    "    f --- function of x, \n",
    "            function\n",
    "    df --- derivative of f\n",
    "            function\n",
    "    epsilon --- error margin, optional\n",
    "                float-like\n",
    "    max_iter --- escape, max number of iterations, optional\n",
    "                    float-like\n",
    "\n",
    "    RETURNS:\n",
    "    x_n --- the x-value of the root\n",
    "    \"\"\"\n",
    "\n",
    "    x_n = x0 #define starting point\n",
    "    if abs(f(x0)) < epsilon:\n",
    "            print('YOU FOUND THE SECRET ROOT AND WON ONE MILLION FAFILLION DOLLARS!!!!!!!!')\n",
    "            return x0\n",
    "    for n in range(1, max_iter):\n",
    "        x_n = x_n - f(x_n) / df(x_n) #find new x_n according to Newton's algorithm\n",
    "        if abs(f(x_n)) < epsilon: #check if f(x_n) is near zero\n",
    "            print(f'Found root in {n} iterations')\n",
    "            return x_n \n",
    "    print('Iteration failed')\n",
    "    return None"
   ]
  },
  {
   "cell_type": "markdown",
   "id": "63b395c5",
   "metadata": {},
   "source": [
    "# Part 3"
   ]
  },
  {
   "cell_type": "code",
   "execution_count": 19,
   "id": "e90d5c7a",
   "metadata": {},
   "outputs": [
    {
     "name": "stdout",
     "output_type": "stream",
     "text": [
      "Found root in 3 iterations\n"
     ]
    }
   ],
   "source": [
    "#Trying out a couple examples for different x0, same max_iter and epsilon\n",
    "x01 = 1.5\n",
    "xn1 = newton(f, df, x01)"
   ]
  },
  {
   "cell_type": "code",
   "execution_count": 20,
   "id": "4774e188",
   "metadata": {},
   "outputs": [
    {
     "name": "stdout",
     "output_type": "stream",
     "text": [
      "Iteration failed\n"
     ]
    }
   ],
   "source": [
    "x02 = -13472\n",
    "xn2 = newton(f, df, x02)"
   ]
  },
  {
   "cell_type": "code",
   "execution_count": 31,
   "id": "1596047e",
   "metadata": {},
   "outputs": [
    {
     "name": "stdout",
     "output_type": "stream",
     "text": [
      "Found root in 13 iterations\n"
     ]
    }
   ],
   "source": [
    "x03 = 56\n",
    "xn3 = newton(f, df, x03)"
   ]
  },
  {
   "cell_type": "code",
   "execution_count": 22,
   "id": "d9933801",
   "metadata": {},
   "outputs": [],
   "source": [
    "#reduce epsilon to 1e-8 and try same examples\n",
    "epsilon = 1e-8"
   ]
  },
  {
   "cell_type": "code",
   "execution_count": 26,
   "id": "0f6a7fa4",
   "metadata": {},
   "outputs": [
    {
     "name": "stdout",
     "output_type": "stream",
     "text": [
      "Found root in 4 iterations\n"
     ]
    }
   ],
   "source": [
    "x01 = 1.5\n",
    "xn1 = newton(f, df, x01, epsilon = epsilon) #specify different epsilon"
   ]
  },
  {
   "cell_type": "code",
   "execution_count": 27,
   "id": "372d717e",
   "metadata": {},
   "outputs": [
    {
     "name": "stdout",
     "output_type": "stream",
     "text": [
      "Iteration failed\n"
     ]
    }
   ],
   "source": [
    "x02 = -13472\n",
    "xn2 = newton(f, df, x02, epsilon = epsilon)"
   ]
  },
  {
   "cell_type": "code",
   "execution_count": 32,
   "id": "211bf857",
   "metadata": {},
   "outputs": [
    {
     "name": "stdout",
     "output_type": "stream",
     "text": [
      "Found root in 14 iterations\n"
     ]
    }
   ],
   "source": [
    "x03 = 56\n",
    "xn3 = newton(f, df, x03, epsilon = epsilon)"
   ]
  },
  {
   "cell_type": "markdown",
   "id": "57e685c8",
   "metadata": {},
   "source": [
    "In general, lower epsilon will require more iterations in order to satisfy the condition $|f(x_n)| < \\epsilon$. In this case, $x_0 = 3$ and $x_0 = 56$ both require one more interation to find the root."
   ]
  }
 ],
 "metadata": {
  "kernelspec": {
   "display_name": "Python 3 (ipykernel)",
   "language": "python",
   "name": "python3"
  },
  "language_info": {
   "codemirror_mode": {
    "name": "ipython",
    "version": 3
   },
   "file_extension": ".py",
   "mimetype": "text/x-python",
   "name": "python",
   "nbconvert_exporter": "python",
   "pygments_lexer": "ipython3",
   "version": "3.10.2"
  }
 },
 "nbformat": 4,
 "nbformat_minor": 5
}
